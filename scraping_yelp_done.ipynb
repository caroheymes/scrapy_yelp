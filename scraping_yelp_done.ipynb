{
  "nbformat": 4,
  "nbformat_minor": 0,
  "metadata": {
    "kernelspec": {
      "display_name": "Python 3",
      "language": "python",
      "name": "python3"
    },
    "language_info": {
      "codemirror_mode": {
        "name": "ipython",
        "version": 3
      },
      "file_extension": ".py",
      "mimetype": "text/x-python",
      "name": "python",
      "nbconvert_exporter": "python",
      "pygments_lexer": "ipython3",
      "version": "3.8.5"
    },
    "colab": {
      "name": "scraping_yelp_done.ipynb",
      "provenance": [],
      "collapsed_sections": []
    }
  },
  "cells": [
    {
      "cell_type": "markdown",
      "metadata": {
        "id": "y_r0EZfdj277"
      },
      "source": [
        "# Scraping Yelp\n",
        "\n",
        "The aim of this exercise is to allow a user to make an automatic search on <a href=\"https://www.yelp.fr/\" target=\"_blank\">Yelp</a> and store the results in a `.json` file. You will be guided through the different steps: making a form request with search keywords, parsing the search results, crawling all the result pages and storing the results into a file.\n",
        "\n",
        "⚠ **As scrapy is not made to launch several crawler processes in the same script, you will have to restart your notebook's kernel before completing each question!**"
      ]
    },
    {
      "cell_type": "markdown",
      "metadata": {
        "id": "pCjPn-w_j28J"
      },
      "source": [
        "1. Create a class `YelpSpider(scrapy.Spider)` with `start_urls = ['https://www.yelp.fr/']`. In this class, define a `parse(self, response)` method that automatically fills Yelp's homepage form with: \"restaurant japonais\" as search keywords and \"Paris\" as search location. Then, define another method `after_search(self, response)` that parses the first page of results, and yields the name and url of each search result. Finally, declare a `CrawlerProcess` that will store the results in a file named `\"restaurant_japonais-paris.json\"`."
      ]
    },
    {
      "cell_type": "markdown",
      "metadata": {
        "id": "Px7EwAx6j8VM"
      },
      "source": [
        "# !pip install Scrapy"
      ]
    },
    {
      "cell_type": "code",
      "metadata": {
        "id": "rycfqbCkj28O"
      },
      "source": [
        "!pip install scrapy"
      ],
      "execution_count": 3,
      "outputs": []
    },
    {
      "cell_type": "code",
      "metadata": {
        "colab": {
          "base_uri": "https://localhost:8080/"
        },
        "id": "LgUEfq_Ixedx",
        "outputId": "13387324-6a02-45c8-8048-78b594745ea0"
      },
      "source": [
        "import requests\n",
        "quoi = input('tu veux manger qwa ?\\n')\n",
        "ou = input('tu veux manger où ?\\n ')\n",
        "url = 'https://www.yelp.fr/search?find_desc=' + quoi + '&find_loc'+ ou + '&start=10'\n",
        "print('C\\'est parti pour une recherche sur Yelp de ' + quoi + ' à ' + ou + '\\n' + url)\n"
      ],
      "execution_count": 9,
      "outputs": [
        {
          "output_type": "stream",
          "text": [
            "tu veux manger qwa ?\n",
            "pizza\n",
            "tu veux manger où ?\n",
            " lyon\n",
            "C'est parti pour une recherche sur Yelp des pizza à lyon\n",
            "https://www.yelp.fr/search?find_desc=pizza&find_loclyon&start=10\n"
          ],
          "name": "stdout"
        }
      ]
    },
    {
      "cell_type": "code",
      "metadata": {
        "id": "2zzyvMH5kGEq"
      },
      "source": [
        "# Import os => Library used to easily manipulate operating systems\n",
        "## More info => https://docs.python.org/3/library/os.html\n",
        "import os \n",
        "\n",
        "# Import logging => Library used for logs manipulation \n",
        "## More info => https://docs.python.org/3/library/logging.html\n",
        "import logging\n",
        "\n",
        "# Import scrapy and scrapy.crawler \n",
        "import scrapy\n",
        "from scrapy.crawler import CrawlerProcess"
      ],
      "execution_count": 5,
      "outputs": []
    },
    {
      "cell_type": "code",
      "metadata": {
        "id": "TqNLvCpqj28T"
      },
      "source": [
        "# Define your class YelpSpider(scrapy.Spider) with all methods needed"
      ],
      "execution_count": 6,
      "outputs": []
    },
    {
      "cell_type": "code",
      "metadata": {
        "id": "SecGs7927sUd"
      },
      "source": [
        "# from scrapy.http import FormRequest\n",
        "from scrapy.http import Request\n",
        "class YelpSpider(scrapy.Spider):\n",
        "    name = 'yelp'\n",
        "    allowed_domains = ['yelp.fr']\n",
        "    start_urls = [url]\n",
        "\n",
        "    def parse(self, response):\n",
        "        for restau in response.xpath('//h4/span'):\n",
        "            yield {\n",
        "                'restau': restau.xpath('.//a/@name').extract(),\n",
        "                'restau_link': restau.xpath('.//a/@href').extract()\n",
        "            }\n",
        "\n",
        "        # Select the NEXT button and store it in next_page\n",
        "        try:\n",
        "            next_page =  response.xpath('//a[contains(@class, \"next-link\")]/@href').get()\n",
        "\n",
        "        except KeyError:\n",
        "            # In the last page, there won't be any \"href\" and a KeyError will be raised\n",
        "            logging.info('No next page.')\n",
        "        else:\n",
        "            # If a next page is found, execute the parse method once again\n",
        "             yield response.follow(next_page, self.parse)"
      ],
      "execution_count": 7,
      "outputs": []
    },
    {
      "cell_type": "code",
      "metadata": {
        "colab": {
          "base_uri": "https://localhost:8080/"
        },
        "id": "r8_tmlBSkKqC",
        "outputId": "110b317d-c86e-4a88-a6ec-5284b438de1d"
      },
      "source": [
        "# Name of the file where the results will be saved\n",
        "filename =  quoi.replace(' ','_') +'_'+ou\n",
        "\n",
        "\n",
        "## More info on built-in settings => https://docs.scrapy.org/en/latest/topics/settings.html?highlight=settings#settings\n",
        "DEFAULT_REQUEST_HEADERS = {\n",
        "    'Referer': 'http://www.google.com' \n",
        "}\n",
        "# Obey robots.txt rules\n",
        "ROBOTSTXT_OBEY = False\n",
        "\n",
        "DEFAULT_REQUEST_HEADERS = {\n",
        "    'Referer': 'https://www.google.com'\n",
        "}\n",
        "\n",
        "process = CrawlerProcess(settings = {\n",
        "    'USER_AGENT': 'Mozilla/4.0 (compatible; MSIE 7.0; Windows NT 5.1)',\n",
        "    'LOG_LEVEL': logging.INFO,\n",
        "    \"FEEDS\": {\n",
        "        'content/' + filename: {\"format\": \"csv\"},\n",
        "    },\n",
        "    \n",
        "    \"AUTOTHROTTLE_ENABLED\": True  # AutoThrottle Here!\n",
        "})\n",
        "\n",
        "# Start the crawling using the spider you defined above\n",
        "process.crawl(YelpSpider)\n",
        "process.start()"
      ],
      "execution_count": 8,
      "outputs": [
        {
          "output_type": "stream",
          "text": [
            "2021-07-05 13:21:38 [scrapy.utils.log] INFO: Scrapy 2.5.0 started (bot: scrapybot)\n",
            "2021-07-05 13:21:38 [scrapy.utils.log] INFO: Versions: lxml 4.2.6.0, libxml2 2.9.8, cssselect 1.1.0, parsel 1.6.0, w3lib 1.22.0, Twisted 21.2.0, Python 3.7.10 (default, May  3 2021, 02:48:31) - [GCC 7.5.0], pyOpenSSL 20.0.1 (OpenSSL 1.1.1k  25 Mar 2021), cryptography 3.4.7, Platform Linux-5.4.104+-x86_64-with-Ubuntu-18.04-bionic\n",
            "2021-07-05 13:21:38 [scrapy.crawler] INFO: Overridden settings:\n",
            "{'LOG_LEVEL': 20,\n",
            " 'USER_AGENT': 'Mozilla/4.0 (compatible; MSIE 7.0; Windows NT 5.1)'}\n",
            "2021-07-05 13:21:38 [scrapy.extensions.telnet] INFO: Telnet Password: 659889b5e1d12126\n",
            "2021-07-05 13:21:38 [scrapy.middleware] INFO: Enabled extensions:\n",
            "['scrapy.extensions.corestats.CoreStats',\n",
            " 'scrapy.extensions.telnet.TelnetConsole',\n",
            " 'scrapy.extensions.memusage.MemoryUsage',\n",
            " 'scrapy.extensions.feedexport.FeedExporter',\n",
            " 'scrapy.extensions.logstats.LogStats']\n",
            "2021-07-05 13:21:39 [scrapy.middleware] INFO: Enabled downloader middlewares:\n",
            "['scrapy.downloadermiddlewares.httpauth.HttpAuthMiddleware',\n",
            " 'scrapy.downloadermiddlewares.downloadtimeout.DownloadTimeoutMiddleware',\n",
            " 'scrapy.downloadermiddlewares.defaultheaders.DefaultHeadersMiddleware',\n",
            " 'scrapy.downloadermiddlewares.useragent.UserAgentMiddleware',\n",
            " 'scrapy.downloadermiddlewares.retry.RetryMiddleware',\n",
            " 'scrapy.downloadermiddlewares.redirect.MetaRefreshMiddleware',\n",
            " 'scrapy.downloadermiddlewares.httpcompression.HttpCompressionMiddleware',\n",
            " 'scrapy.downloadermiddlewares.redirect.RedirectMiddleware',\n",
            " 'scrapy.downloadermiddlewares.cookies.CookiesMiddleware',\n",
            " 'scrapy.downloadermiddlewares.httpproxy.HttpProxyMiddleware',\n",
            " 'scrapy.downloadermiddlewares.stats.DownloaderStats']\n",
            "2021-07-05 13:21:39 [scrapy.middleware] INFO: Enabled spider middlewares:\n",
            "['scrapy.spidermiddlewares.httperror.HttpErrorMiddleware',\n",
            " 'scrapy.spidermiddlewares.offsite.OffsiteMiddleware',\n",
            " 'scrapy.spidermiddlewares.referer.RefererMiddleware',\n",
            " 'scrapy.spidermiddlewares.urllength.UrlLengthMiddleware',\n",
            " 'scrapy.spidermiddlewares.depth.DepthMiddleware']\n",
            "2021-07-05 13:21:39 [scrapy.middleware] INFO: Enabled item pipelines:\n",
            "[]\n",
            "2021-07-05 13:21:39 [scrapy.core.engine] INFO: Spider opened\n",
            "2021-07-05 13:21:39 [scrapy.extensions.logstats] INFO: Crawled 0 pages (at 0 pages/min), scraped 0 items (at 0 items/min)\n",
            "2021-07-05 13:21:39 [scrapy.extensions.telnet] INFO: Telnet console listening on 127.0.0.1:6023\n",
            "2021-07-05 13:21:54 [scrapy.core.downloader.handlers.http11] WARNING: Got data loss in https://www.yelp.fr/search?find_desc=pizza&find_loc=Las%20Vegas%2C%20NV&start=80. If you want to process broken responses set the setting DOWNLOAD_FAIL_ON_DATALOSS = False -- This message won't be shown in further requests\n",
            "2021-07-05 13:22:23 [scrapy.core.scraper] ERROR: Spider error processing <GET https://www.yelp.fr/search?find_desc=pizza&find_loc=Las%20Vegas%2C%20NV&start=230> (referer: https://www.yelp.fr/search?find_desc=pizza&find_loc=Las%20Vegas%2C%20NV&start=220)\n",
            "Traceback (most recent call last):\n",
            "  File \"/usr/local/lib/python3.7/dist-packages/scrapy/utils/defer.py\", line 120, in iter_errback\n",
            "    yield next(it)\n",
            "  File \"/usr/local/lib/python3.7/dist-packages/scrapy/utils/python.py\", line 353, in __next__\n",
            "    return next(self.data)\n",
            "  File \"/usr/local/lib/python3.7/dist-packages/scrapy/utils/python.py\", line 353, in __next__\n",
            "    return next(self.data)\n",
            "  File \"/usr/local/lib/python3.7/dist-packages/scrapy/core/spidermw.py\", line 56, in _evaluate_iterable\n",
            "    for r in iterable:\n",
            "  File \"/usr/local/lib/python3.7/dist-packages/scrapy/spidermiddlewares/offsite.py\", line 29, in process_spider_output\n",
            "    for x in result:\n",
            "  File \"/usr/local/lib/python3.7/dist-packages/scrapy/core/spidermw.py\", line 56, in _evaluate_iterable\n",
            "    for r in iterable:\n",
            "  File \"/usr/local/lib/python3.7/dist-packages/scrapy/spidermiddlewares/referer.py\", line 342, in <genexpr>\n",
            "    return (_set_referer(r) for r in result or ())\n",
            "  File \"/usr/local/lib/python3.7/dist-packages/scrapy/core/spidermw.py\", line 56, in _evaluate_iterable\n",
            "    for r in iterable:\n",
            "  File \"/usr/local/lib/python3.7/dist-packages/scrapy/spidermiddlewares/urllength.py\", line 40, in <genexpr>\n",
            "    return (r for r in result or () if _filter(r))\n",
            "  File \"/usr/local/lib/python3.7/dist-packages/scrapy/core/spidermw.py\", line 56, in _evaluate_iterable\n",
            "    for r in iterable:\n",
            "  File \"/usr/local/lib/python3.7/dist-packages/scrapy/spidermiddlewares/depth.py\", line 58, in <genexpr>\n",
            "    return (r for r in result or () if _filter(r))\n",
            "  File \"/usr/local/lib/python3.7/dist-packages/scrapy/core/spidermw.py\", line 56, in _evaluate_iterable\n",
            "    for r in iterable:\n",
            "  File \"<ipython-input-7-81edc15d85b4>\", line 24, in parse\n",
            "    yield response.follow(next_page, self.parse)\n",
            "  File \"/usr/local/lib/python3.7/dist-packages/scrapy/http/response/text.py\", line 182, in follow\n",
            "    flags=flags,\n",
            "  File \"/usr/local/lib/python3.7/dist-packages/scrapy/http/response/__init__.py\", line 154, in follow\n",
            "    raise ValueError(\"url can't be None\")\n",
            "ValueError: url can't be None\n",
            "2021-07-05 13:22:23 [scrapy.core.engine] INFO: Closing spider (finished)\n",
            "2021-07-05 13:22:23 [scrapy.extensions.feedexport] INFO: Stored csv feed (296 items) in: content/pizza_lyon\n",
            "2021-07-05 13:22:23 [scrapy.statscollectors] INFO: Dumping Scrapy stats:\n",
            "{'downloader/exception_count': 1,\n",
            " 'downloader/exception_type_count/twisted.web._newclient.ResponseFailed': 1,\n",
            " 'downloader/request_bytes': 11877,\n",
            " 'downloader/request_count': 25,\n",
            " 'downloader/request_method_count/GET': 25,\n",
            " 'downloader/response_bytes': 1368267,\n",
            " 'downloader/response_count': 24,\n",
            " 'downloader/response_status_count/200': 23,\n",
            " 'downloader/response_status_count/303': 1,\n",
            " 'elapsed_time_seconds': 44.63953,\n",
            " 'feedexport/success_count/FileFeedStorage': 1,\n",
            " 'finish_reason': 'finished',\n",
            " 'finish_time': datetime.datetime(2021, 7, 5, 13, 22, 23, 673273),\n",
            " 'httpcompression/response_bytes': 8727658,\n",
            " 'httpcompression/response_count': 23,\n",
            " 'item_scraped_count': 296,\n",
            " 'log_count/ERROR': 1,\n",
            " 'log_count/INFO': 11,\n",
            " 'log_count/WARNING': 1,\n",
            " 'memusage/max': 153956352,\n",
            " 'memusage/startup': 153956352,\n",
            " 'request_depth_max': 22,\n",
            " 'response_received_count': 23,\n",
            " 'retry/count': 1,\n",
            " 'retry/reason_count/twisted.web._newclient.ResponseFailed': 1,\n",
            " 'scheduler/dequeued': 25,\n",
            " 'scheduler/dequeued/memory': 25,\n",
            " 'scheduler/enqueued': 25,\n",
            " 'scheduler/enqueued/memory': 25,\n",
            " 'spider_exceptions/ValueError': 1,\n",
            " 'start_time': datetime.datetime(2021, 7, 5, 13, 21, 39, 33743)}\n",
            "2021-07-05 13:22:23 [scrapy.core.engine] INFO: Spider closed (finished)\n"
          ],
          "name": "stderr"
        }
      ]
    }
  ]
}